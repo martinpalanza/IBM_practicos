{
  "nbformat": 4,
  "nbformat_minor": 0,
  "metadata": {
    "colab": {
      "provenance": []
    },
    "kernelspec": {
      "name": "python3",
      "display_name": "Python 3"
    },
    "language_info": {
      "name": "python"
    }
  },
  "cells": [
    {
      "cell_type": "markdown",
      "source": [
        "#Data Science Tools and Ecosystem"
      ],
      "metadata": {
        "id": "0V0DJEQpmRm3"
      }
    },
    {
      "cell_type": "markdown",
      "source": [
        "In this notebook, Data Science Tools and Ecosystem are summarized."
      ],
      "metadata": {
        "id": "JuyVm3NGnAGx"
      }
    },
    {
      "cell_type": "markdown",
      "source": [
        "**Objetives**\n",
        "\n",
        "\n",
        "*   Popular languages that Data Scientists use\n",
        "*   Commonly used libraries used by Data Scientists\n",
        "*   Examples of evaluating arithmetic expressions in Python\n",
        "\n"
      ],
      "metadata": {
        "id": "c3PNNBUNqyH4"
      }
    },
    {
      "cell_type": "markdown",
      "source": [
        "Some of the popular languages that Data Scientists use are:\n",
        "\n",
        "```\n",
        "# Esto tiene formato de código\n",
        "```\n",
        "\n",
        "\n",
        "1. R\n",
        "2. Python\n",
        "3. SQL"
      ],
      "metadata": {
        "id": "mKKWBT_in0s7"
      }
    },
    {
      "cell_type": "markdown",
      "source": [
        "Some of the commonly used libraries used by Data Scientists include:\n",
        "1. NumPy (Python, cumerical computation)\n",
        "2. Pandas (Python, data manipulation and analysis)\n",
        "3. Matplotlib (Python, data visuatization)\n",
        "4. PyTorch (Python, Machine Learning)"
      ],
      "metadata": {
        "id": "RJAZX8MwoB1I"
      }
    },
    {
      "cell_type": "markdown",
      "source": [
        "|Data Science Tools|\n",
        "|-----------------------------------|\n",
        "|GitHub|\n",
        "|Jupyter Notebooks|\n",
        "|Jupyter Labs|"
      ],
      "metadata": {
        "id": "JbET_opEolnR"
      }
    },
    {
      "cell_type": "markdown",
      "source": [
        "Below are a few examples of evaluating arithmetic expressions in Python"
      ],
      "metadata": {
        "id": "pD815V7vp14L"
      }
    },
    {
      "cell_type": "code",
      "source": [
        "#This a simple arithmetic expression to mutiply then add integers\n",
        "(3*4)+5"
      ],
      "metadata": {
        "colab": {
          "base_uri": "https://localhost:8080/"
        },
        "id": "-tOhPYisok2B",
        "outputId": "466b6d1c-39ff-4c04-d93f-fb0810352372"
      },
      "execution_count": null,
      "outputs": [
        {
          "output_type": "execute_result",
          "data": {
            "text/plain": [
              "17"
            ]
          },
          "metadata": {},
          "execution_count": 2
        }
      ]
    },
    {
      "cell_type": "code",
      "source": [
        "#This will convert 200 minutes to hours by diving by 60\n",
        "200/60"
      ],
      "metadata": {
        "colab": {
          "base_uri": "https://localhost:8080/"
        },
        "id": "UxqLdNLzqJt3",
        "outputId": "fb1f52c2-3607-4048-cdd0-487a1687cae4"
      },
      "execution_count": null,
      "outputs": [
        {
          "output_type": "execute_result",
          "data": {
            "text/plain": [
              "3.3333333333333335"
            ]
          },
          "metadata": {},
          "execution_count": 3
        }
      ]
    },
    {
      "cell_type": "markdown",
      "source": [
        "##Author\n",
        "Martín Palanza"
      ],
      "metadata": {
        "id": "RjBOyVgOrgSi"
      }
    }
  ]
}